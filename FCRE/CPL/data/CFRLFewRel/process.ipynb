{
 "cells": [
  {
   "cell_type": "code",
   "execution_count": 5,
   "id": "bf38011f",
   "metadata": {},
   "outputs": [],
   "source": [
    "save_path = './syn_data.json'\n",
    "save_data = {}\n",
    "\n",
    "class_per_task = [6] + [5]*7\n",
    "relation = None\n",
    "last_idx = None\n",
    "with open('./syn_data.txt','r') as f:\n",
    "    lines = f.readlines()\n",
    "    for idx, line in enumerate(lines):\n",
    "        if line.startswith('--------Round'): # start round\n",
    "            if relation != None and relation not in save_data[\"Round \" + str(round)]:\n",
    "                save_data[\"Round \" + str(round)][relation] = ''.join(lines[last_idx:idx])\n",
    "\n",
    "            round = line.strip()[-1]\n",
    "            save_data[\"Round \" + str(round)] = {}\n",
    "            current_task = 0\n",
    "            current_class = 0\n",
    "            last_idx = idx+1\n",
    "            relation = lines[idx+2].replace('####', '').strip()\n",
    "        #     save_data[\"Round \" + str(round)][\"Task \" + str(current_task)] = {}\n",
    "        # if line.startswith('####'): # start relation\n",
    "        #     if current_class == 0:\n",
    "        #         start_idx = idx\n",
    "        #     if current_class == class_per_task[current_task]:\n",
    "        #         end_idx = idx\n",
    "        #         save_data[\"Round \" + str(round)][\"Task \" + str(current_task)] = ''.join(lines[start_idx:end_idx])\n",
    "        #         current_class = 0\n",
    "        #         current_task += 1\n",
    "        #         save_data[\"Round \" + str(round)][\"Task \" + str(current_task)] = {}\n",
    "        #     current_class += 1\n",
    "        if line.startswith('#### '):\n",
    "            save_data[\"Round \" + str(round)][relation] = ''.join(lines[last_idx:idx])\n",
    "            relation = line.replace('####', '').strip()\n",
    "            last_idx = idx+1\n",
    "save_data[\"Round \" + str(round)][relation] = ''.join(lines[last_idx:])"
   ]
  },
  {
   "cell_type": "code",
   "execution_count": 6,
   "id": "844b0e87",
   "metadata": {},
   "outputs": [
    {
     "name": "stdout",
     "output_type": "stream",
     "text": [
      "81\n",
      "81\n",
      "81\n",
      "81\n",
      "81\n",
      "81\n"
     ]
    }
   ],
   "source": [
    "for x in save_data:\n",
    "    print(len(save_data[x]))"
   ]
  },
  {
   "cell_type": "code",
   "execution_count": 7,
   "id": "fa557b48",
   "metadata": {},
   "outputs": [],
   "source": [
    "import json\n",
    "json.dump(save_data, open(save_path, 'w'))"
   ]
  },
  {
   "cell_type": "code",
   "execution_count": null,
   "id": "13571407",
   "metadata": {},
   "outputs": [],
   "source": []
  }
 ],
 "metadata": {
  "kernelspec": {
   "display_name": "nlp",
   "language": "python",
   "name": "python3"
  },
  "language_info": {
   "codemirror_mode": {
    "name": "ipython",
    "version": 3
   },
   "file_extension": ".py",
   "mimetype": "text/x-python",
   "name": "python",
   "nbconvert_exporter": "python",
   "pygments_lexer": "ipython3",
   "version": "3.10.18"
  }
 },
 "nbformat": 4,
 "nbformat_minor": 5
}
