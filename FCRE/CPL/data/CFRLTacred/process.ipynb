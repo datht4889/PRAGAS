{
 "cells": [
  {
   "cell_type": "code",
   "execution_count": 2,
   "metadata": {},
   "outputs": [],
   "source": [
    "rel = []\n",
    "with open('./relation_description.txt','r') as f:\n",
    "    lines = f.readlines()\n",
    "    for line in lines:\n",
    "        line = line.strip()\n",
    "        if line == '':\n",
    "            continue\n",
    "        line = line.split('\\t')\n",
    "        rel.append([line[1], line[2]])\n",
    "        "
   ]
  },
  {
   "cell_type": "code",
   "execution_count": 3,
   "metadata": {},
   "outputs": [],
   "source": [
    "with open('./relation_description_raw.txt','w') as f:\n",
    "    for index,r in enumerate(rel):\n",
    "        f.write(str(index) + '\\t' +r[0]+'\\t'+r[1]+'\\n')"
   ]
  },
  {
   "cell_type": "code",
   "execution_count": 119,
   "metadata": {},
   "outputs": [],
   "source": [
    "save_path = './syn_data.json'\n",
    "save_data = {}\n",
    "\n",
    "class_per_task = [6] + [5]*7\n",
    "relation = None\n",
    "last_idx = None\n",
    "with open('./syn_data.txt','r') as f:\n",
    "    lines = f.readlines()\n",
    "    for idx, line in enumerate(lines):\n",
    "        if line.startswith('--------Round'): # start round\n",
    "            if relation != None and relation not in save_data[\"Round \" + str(round)]:\n",
    "                save_data[\"Round \" + str(round)][relation] = ''.join(lines[last_idx:idx])\n",
    "\n",
    "            round = line.strip()[-1]\n",
    "            save_data[\"Round \" + str(round)] = {}\n",
    "            current_task = 0\n",
    "            current_class = 0\n",
    "            last_idx = idx+1\n",
    "            relation = lines[idx+2].replace('####', '').strip()\n",
    "        #     save_data[\"Round \" + str(round)][\"Task \" + str(current_task)] = {}\n",
    "        # if line.startswith('####'): # start relation\n",
    "        #     if current_class == 0:\n",
    "        #         start_idx = idx\n",
    "        #     if current_class == class_per_task[current_task]:\n",
    "        #         end_idx = idx\n",
    "        #         save_data[\"Round \" + str(round)][\"Task \" + str(current_task)] = ''.join(lines[start_idx:end_idx])\n",
    "        #         current_class = 0\n",
    "        #         current_task += 1\n",
    "        #         save_data[\"Round \" + str(round)][\"Task \" + str(current_task)] = {}\n",
    "        #     current_class += 1\n",
    "        if line.startswith('#### '):\n",
    "            save_data[\"Round \" + str(round)][relation] = ''.join(lines[last_idx:idx])\n",
    "            relation = line.replace('####', '').strip()\n",
    "            last_idx = idx+1\n",
    "save_data[\"Round \" + str(round)][relation] = ''.join(lines[last_idx:])"
   ]
  },
  {
   "cell_type": "code",
   "execution_count": 120,
   "metadata": {},
   "outputs": [
    {
     "name": "stdout",
     "output_type": "stream",
     "text": [
      "41\n",
      "41\n",
      "41\n",
      "41\n",
      "41\n",
      "41\n"
     ]
    }
   ],
   "source": [
    "for x in save_data:\n",
    "    print(len(save_data[x]))"
   ]
  },
  {
   "cell_type": "code",
   "execution_count": 122,
   "metadata": {},
   "outputs": [],
   "source": [
    "import json\n",
    "json.dump(save_data, open(save_path, 'w'))"
   ]
  },
  {
   "cell_type": "code",
   "execution_count": 1,
   "metadata": {},
   "outputs": [],
   "source": [
    "import json\n",
    "with open('/Applications/codingforlife/LabNLP/mutual-pairing-data-augmentation/FCRE/CPL/data/CFRLTacred/syn_data.json', 'r') as f:\n",
    "    syn_data = json.load(f)"
   ]
  }
 ],
 "metadata": {
  "kernelspec": {
   "display_name": "nlp",
   "language": "python",
   "name": "python3"
  },
  "language_info": {
   "codemirror_mode": {
    "name": "ipython",
    "version": 3
   },
   "file_extension": ".py",
   "mimetype": "text/x-python",
   "name": "python",
   "nbconvert_exporter": "python",
   "pygments_lexer": "ipython3",
   "version": "3.10.18"
  }
 },
 "nbformat": 4,
 "nbformat_minor": 2
}
